{
 "cells": [
  {
   "cell_type": "markdown",
   "metadata": {},
   "source": [
    "<img align=\"left\" src=\"https://lever-client-logos.s3.amazonaws.com/864372b1-534c-480e-acd5-9711f850815c-1524247202159.png\" width=200>\n",
    "<br></br>\n",
    "<br></br>\n",
    "\n",
    "# Topic Modeling\n",
    "## *Data Science Unit 4 Sprint 1 Assignment 4*\n",
    "\n",
    "Analyze a corpus of Amazon reviews from Unit 4 Sprint 1 Module 1's lecture using topic modeling: \n",
    "\n",
    "- Fit a Gensim LDA topic model on Amazon Reviews\n",
    "- Select appropriate number of topics\n",
    "- Create some dope visualization of the topics\n",
    "- Write a few bullets on your findings in markdown at the end\n",
    "- **Note**: You don't *have* to use generators for this assignment"
   ]
  },
  {
   "cell_type": "markdown",
   "metadata": {},
   "source": [
    "## loading data"
   ]
  },
  {
   "cell_type": "code",
   "execution_count": 1,
   "metadata": {},
   "outputs": [
    {
     "output_type": "stream",
     "name": "stdout",
     "text": "Archive:  ../module1-text-data/data/Datafiniti_Amazon_Consumer_Reviews_of_Amazon_Products_May19.csv.zip\n  inflating: Datafiniti_Amazon_Consumer_Reviews_of_Amazon_Products_May19.csv\n   creating: __MACOSX/\n  inflating: __MACOSX/._Datafiniti_Amazon_Consumer_Reviews_of_Amazon_Products_May19.csv  \n"
    }
   ],
   "source": [
    "# unzip the data from it living place into our current data_dir\n",
    "!unzip ../module1-text-data/data/Datafiniti_Amazon_Consumer_Reviews_of_Amazon_Products_May19.csv.zip"
   ]
  },
  {
   "cell_type": "code",
   "execution_count": 2,
   "metadata": {},
   "outputs": [],
   "source": [
    "# eww trash need to get rid of that real quick\n",
    "!rm -r __MACOSX"
   ]
  },
  {
   "cell_type": "code",
   "execution_count": 4,
   "metadata": {},
   "outputs": [],
   "source": [
    "# move the .csv into our current data dir\n",
    "!mv ./*.csv ./data"
   ]
  },
  {
   "cell_type": "markdown",
   "metadata": {},
   "source": [
    "## putting data in a df and some eda"
   ]
  },
  {
   "cell_type": "code",
   "execution_count": 21,
   "metadata": {},
   "outputs": [
    {
     "output_type": "stream",
     "name": "stdout",
     "text": "df shape: (28332, 24) \n\n"
    },
    {
     "output_type": "execute_result",
     "data": {
      "text/plain": "                     id  ...                                         sourceURLs\n0  AVpgNzjwLJeJML43Kpxn  ...  https://www.barcodable.com/upc/841710106442,ht...\n1  AVpgNzjwLJeJML43Kpxn  ...  https://www.barcodable.com/upc/841710106442,ht...\n2  AVpgNzjwLJeJML43Kpxn  ...  https://www.barcodable.com/upc/841710106442,ht...\n3  AVpgNzjwLJeJML43Kpxn  ...  https://www.barcodable.com/upc/841710106442,ht...\n4  AVpgNzjwLJeJML43Kpxn  ...  https://www.barcodable.com/upc/841710106442,ht...\n\n[5 rows x 24 columns]",
      "text/html": "<div>\n<style scoped>\n    .dataframe tbody tr th:only-of-type {\n        vertical-align: middle;\n    }\n\n    .dataframe tbody tr th {\n        vertical-align: top;\n    }\n\n    .dataframe thead th {\n        text-align: right;\n    }\n</style>\n<table border=\"1\" class=\"dataframe\">\n  <thead>\n    <tr style=\"text-align: right;\">\n      <th></th>\n      <th>id</th>\n      <th>dateAdded</th>\n      <th>dateUpdated</th>\n      <th>name</th>\n      <th>asins</th>\n      <th>brand</th>\n      <th>categories</th>\n      <th>primaryCategories</th>\n      <th>imageURLs</th>\n      <th>keys</th>\n      <th>manufacturer</th>\n      <th>manufacturerNumber</th>\n      <th>reviews.date</th>\n      <th>reviews.dateSeen</th>\n      <th>reviews.didPurchase</th>\n      <th>reviews.doRecommend</th>\n      <th>reviews.id</th>\n      <th>reviews.numHelpful</th>\n      <th>reviews.rating</th>\n      <th>reviews.sourceURLs</th>\n      <th>reviews.text</th>\n      <th>reviews.title</th>\n      <th>reviews.username</th>\n      <th>sourceURLs</th>\n    </tr>\n  </thead>\n  <tbody>\n    <tr>\n      <th>0</th>\n      <td>AVpgNzjwLJeJML43Kpxn</td>\n      <td>2015-10-30T08:59:32Z</td>\n      <td>2019-04-25T09:08:16Z</td>\n      <td>AmazonBasics AAA Performance Alkaline Batterie...</td>\n      <td>B00QWO9P0O,B00LH3DMUO</td>\n      <td>Amazonbasics</td>\n      <td>AA,AAA,Health,Electronics,Health &amp; Household,C...</td>\n      <td>Health &amp; Beauty</td>\n      <td>https://images-na.ssl-images-amazon.com/images...</td>\n      <td>amazonbasics/hl002619,amazonbasicsaaaperforman...</td>\n      <td>AmazonBasics</td>\n      <td>HL-002619</td>\n      <td>2017-03-02T00:00:00.000Z</td>\n      <td>2017-08-28T00:00:00Z</td>\n      <td>NaN</td>\n      <td>NaN</td>\n      <td>NaN</td>\n      <td>NaN</td>\n      <td>3</td>\n      <td>https://www.amazon.com/product-reviews/B00QWO9...</td>\n      <td>I order 3 of them and one of the item is bad q...</td>\n      <td>... 3 of them and one of the item is bad quali...</td>\n      <td>Byger yang</td>\n      <td>https://www.barcodable.com/upc/841710106442,ht...</td>\n    </tr>\n    <tr>\n      <th>1</th>\n      <td>AVpgNzjwLJeJML43Kpxn</td>\n      <td>2015-10-30T08:59:32Z</td>\n      <td>2019-04-25T09:08:16Z</td>\n      <td>AmazonBasics AAA Performance Alkaline Batterie...</td>\n      <td>B00QWO9P0O,B00LH3DMUO</td>\n      <td>Amazonbasics</td>\n      <td>AA,AAA,Health,Electronics,Health &amp; Household,C...</td>\n      <td>Health &amp; Beauty</td>\n      <td>https://images-na.ssl-images-amazon.com/images...</td>\n      <td>amazonbasics/hl002619,amazonbasicsaaaperforman...</td>\n      <td>AmazonBasics</td>\n      <td>HL-002619</td>\n      <td>2016-08-31T00:00:00.000Z</td>\n      <td>2017-08-28T00:00:00Z</td>\n      <td>NaN</td>\n      <td>NaN</td>\n      <td>NaN</td>\n      <td>NaN</td>\n      <td>4</td>\n      <td>https://www.amazon.com/product-reviews/B00QWO9...</td>\n      <td>Bulk is always the less expensive way to go fo...</td>\n      <td>... always the less expensive way to go for pr...</td>\n      <td>ByMG</td>\n      <td>https://www.barcodable.com/upc/841710106442,ht...</td>\n    </tr>\n    <tr>\n      <th>2</th>\n      <td>AVpgNzjwLJeJML43Kpxn</td>\n      <td>2015-10-30T08:59:32Z</td>\n      <td>2019-04-25T09:08:16Z</td>\n      <td>AmazonBasics AAA Performance Alkaline Batterie...</td>\n      <td>B00QWO9P0O,B00LH3DMUO</td>\n      <td>Amazonbasics</td>\n      <td>AA,AAA,Health,Electronics,Health &amp; Household,C...</td>\n      <td>Health &amp; Beauty</td>\n      <td>https://images-na.ssl-images-amazon.com/images...</td>\n      <td>amazonbasics/hl002619,amazonbasicsaaaperforman...</td>\n      <td>AmazonBasics</td>\n      <td>HL-002619</td>\n      <td>2016-12-06T00:00:00.000Z</td>\n      <td>2017-08-28T00:00:00Z</td>\n      <td>NaN</td>\n      <td>NaN</td>\n      <td>NaN</td>\n      <td>NaN</td>\n      <td>5</td>\n      <td>https://www.amazon.com/product-reviews/B00QWO9...</td>\n      <td>Well they are not Duracell but for the price i...</td>\n      <td>... are not Duracell but for the price i am ha...</td>\n      <td>BySharon Lambert</td>\n      <td>https://www.barcodable.com/upc/841710106442,ht...</td>\n    </tr>\n    <tr>\n      <th>3</th>\n      <td>AVpgNzjwLJeJML43Kpxn</td>\n      <td>2015-10-30T08:59:32Z</td>\n      <td>2019-04-25T09:08:16Z</td>\n      <td>AmazonBasics AAA Performance Alkaline Batterie...</td>\n      <td>B00QWO9P0O,B00LH3DMUO</td>\n      <td>Amazonbasics</td>\n      <td>AA,AAA,Health,Electronics,Health &amp; Household,C...</td>\n      <td>Health &amp; Beauty</td>\n      <td>https://images-na.ssl-images-amazon.com/images...</td>\n      <td>amazonbasics/hl002619,amazonbasicsaaaperforman...</td>\n      <td>AmazonBasics</td>\n      <td>HL-002619</td>\n      <td>2016-03-28T00:00:00.000Z</td>\n      <td>2017-08-28T00:00:00Z</td>\n      <td>NaN</td>\n      <td>NaN</td>\n      <td>NaN</td>\n      <td>NaN</td>\n      <td>5</td>\n      <td>https://www.amazon.com/product-reviews/B00QWO9...</td>\n      <td>Seem to work as well as name brand batteries a...</td>\n      <td>... as well as name brand batteries at a much ...</td>\n      <td>Bymark sexson</td>\n      <td>https://www.barcodable.com/upc/841710106442,ht...</td>\n    </tr>\n    <tr>\n      <th>4</th>\n      <td>AVpgNzjwLJeJML43Kpxn</td>\n      <td>2015-10-30T08:59:32Z</td>\n      <td>2019-04-25T09:08:16Z</td>\n      <td>AmazonBasics AAA Performance Alkaline Batterie...</td>\n      <td>B00QWO9P0O,B00LH3DMUO</td>\n      <td>Amazonbasics</td>\n      <td>AA,AAA,Health,Electronics,Health &amp; Household,C...</td>\n      <td>Health &amp; Beauty</td>\n      <td>https://images-na.ssl-images-amazon.com/images...</td>\n      <td>amazonbasics/hl002619,amazonbasicsaaaperforman...</td>\n      <td>AmazonBasics</td>\n      <td>HL-002619</td>\n      <td>2017-04-22T00:00:00.000Z</td>\n      <td>2017-08-28T00:00:00Z</td>\n      <td>NaN</td>\n      <td>NaN</td>\n      <td>NaN</td>\n      <td>NaN</td>\n      <td>5</td>\n      <td>https://www.amazon.com/product-reviews/B00QWO9...</td>\n      <td>These batteries are very long lasting the pric...</td>\n      <td>... batteries are very long lasting the price ...</td>\n      <td>Bylinda</td>\n      <td>https://www.barcodable.com/upc/841710106442,ht...</td>\n    </tr>\n  </tbody>\n</table>\n</div>"
     },
     "metadata": {},
     "execution_count": 21
    }
   ],
   "source": [
    "# load into a pandas df and take a look at the data\n",
    "import pandas as pd;\n",
    "df = pd.read_csv(\"./data/Datafiniti_Amazon_Consumer_Reviews_of_Amazon_Products_May19.csv\")\n",
    "print(\"df shape:\", df.shape, \"\\n\")\n",
    "df.head()\n"
   ]
  },
  {
   "cell_type": "code",
   "execution_count": 22,
   "metadata": {},
   "outputs": [
    {
     "output_type": "execute_result",
     "data": {
      "text/plain": "65"
     },
     "metadata": {},
     "execution_count": 22
    }
   ],
   "source": [
    "# how many products are there being reviewed in this dataset?\n",
    "df.asins.nunique()"
   ]
  },
  {
   "cell_type": "code",
   "execution_count": 23,
   "metadata": {},
   "outputs": [
    {
     "output_type": "execute_result",
     "data": {
      "text/plain": "9"
     },
     "metadata": {},
     "execution_count": 23
    }
   ],
   "source": [
    "# how many prime cats do we have products for?\n",
    "df.primaryCategories.nunique()"
   ]
  },
  {
   "cell_type": "code",
   "execution_count": 24,
   "metadata": {},
   "outputs": [
    {
     "output_type": "execute_result",
     "data": {
      "text/plain": "['id',\n 'dateAdded',\n 'dateUpdated',\n 'name',\n 'asins',\n 'brand',\n 'categories',\n 'primaryCategories',\n 'imageURLs',\n 'keys',\n 'manufacturer',\n 'manufacturerNumber',\n 'reviews.date',\n 'reviews.dateSeen',\n 'reviews.didPurchase',\n 'reviews.doRecommend',\n 'reviews.id',\n 'reviews.numHelpful',\n 'reviews.rating',\n 'reviews.sourceURLs',\n 'reviews.text',\n 'reviews.title',\n 'reviews.username',\n 'sourceURLs']"
     },
     "metadata": {},
     "execution_count": 24
    }
   ],
   "source": [
    "# get a list of columns to look at\n",
    "df.columns.to_list()"
   ]
  },
  {
   "cell_type": "code",
   "execution_count": 25,
   "metadata": {},
   "outputs": [],
   "source": [
    "# drop usless junk in the persuit of smaller impact to computation\n",
    "drop_list = ['imageURLs',\n",
    "             'id',\n",
    "             'dateUpdated',\n",
    "             'asins',\n",
    "             'categories',\n",
    "             'keys',\n",
    "             'manufacturerNumber',\n",
    "             'reviews.date',\n",
    "             'reviews.dateSeen',\n",
    "             'reviews.didPurchase',\n",
    "             'reviews.doRecommend',\n",
    "             'reviews.id',\n",
    "             'reviews.numHelpful',\n",
    "             'reviews.sourceURLs',\n",
    "             'sourceURLs',\n",
    "             'reviews.username']\n",
    "\n",
    "df.drop(drop_list,axis=1,inplace=True)"
   ]
  },
  {
   "cell_type": "code",
   "execution_count": 26,
   "metadata": {},
   "outputs": [
    {
     "output_type": "execute_result",
     "data": {
      "text/plain": "Electronics                    0.493964\nHealth & Beauty                0.426055\nToys & Games,Electronics       0.059156\nOffice Supplies,Electronics    0.013624\nElectronics,Media              0.006530\nOffice Supplies                0.000318\nAnimals & Pet Supplies         0.000212\nHome & Garden                  0.000071\nElectronics,Furniture          0.000071\nName: primaryCategories, dtype: float64"
     },
     "metadata": {},
     "execution_count": 26
    }
   ],
   "source": [
    "# seems like the majority of cats are in electronics and health&beauty\n",
    "# going to just use electronics since i have domain knoledge there\n",
    "df.primaryCategories.value_counts(normalize=True)\n"
   ]
  },
  {
   "cell_type": "code",
   "execution_count": 27,
   "metadata": {},
   "outputs": [],
   "source": [
    "df_sm = df[df['primaryCategories'] == 'Electronics']\n"
   ]
  },
  {
   "cell_type": "code",
   "execution_count": 28,
   "metadata": {},
   "outputs": [
    {
     "output_type": "execute_result",
     "data": {
      "text/plain": "(13995, 8)"
     },
     "metadata": {},
     "execution_count": 28
    }
   ],
   "source": [
    "# cut about half of the size down which duh look at the normalized value_counts\n",
    "df_sm.shape"
   ]
  },
  {
   "cell_type": "code",
   "execution_count": 42,
   "metadata": {},
   "outputs": [
    {
     "output_type": "execute_result",
     "data": {
      "text/plain": "19527    Our 1 1/2 year old daughter loves this one and she is very delighted with this one                                                                                                                                                                                                                                                                                                                                                                                                                                                                                                                                                   \n12575    I bought the Amazon Tap when it was on sale. I already had the Amazon Echo and the Dot. The Tap was a pleasant surprise. Speakers aren't as strong as the original Echo, but the sound quality of voice and music is more than acceptable. TheTap will do virtually anything that the more Expensive Echo can do  including hands-free voice commands. Plus, it's portable and has a wireless charger base, so that it stays charged. It is easy to set up if you follow the instructions carefully. It pairs with your home wifi network, and can also act as a bluetooth speaker when paired with your phone or other audio source.\n26930    I have had a Samsung Tablet for 3 years, and I have to say that I love this Amazon Kindle 10x better. The picture quality is amazing, it is light weight, it is easy to navigate.                                                                                                                                                                                                                                                                                                                                                                                                                                                    \n19719    My daughter loves it! Easy to use and long battery life.                                                                                                                                                                                                                                                                                                                                                                                                                                                                                                                                                                             \n22271    I bought this tablet for my son, he loves it. He used to look up everything on his smartphone, and watched Netflix on it too, but this tablet beats it with speed and overall performance. It also takes really good pictures. Every member of my family owns one of the Kindle Fire tablets.                                                                                                                                                                                                                                                                                                                                        \n14281    Nice size screen. Very fast easy to use nice size nice screen                                                                                                                                                                                                                                                                                                                                                                                                                                                                                                                                                                        \n25068    Bought this tablet for my five-year-old son he plays it every single day loves it great kid friendly tablet                                                                                                                                                                                                                                                                                                                                                                                                                                                                                                                          \n25159    Got 2 of these for Christmas gifts for our grandsons & they love them!                                                                                                                                                                                                                                                                                                                                                                                                                                                                                                                                                               \n25958    This item has a very nice readout, and is well built as far as I can tell. The overall size is very suitable, and the price was reasonable. I get great service at Best Buy every time I shop there.                                                                                                                                                                                                                                                                                                                                                                                                                                 \n17189    My husband bought this on Black Friday at a really great price! He loves how lightweight this is, and offers him his email, internet functionality and books, of course. Great buy!                                                                                                                                                                                                                                                                                                                                                                                                                                                  \nName: reviews.text, dtype: object"
     },
     "metadata": {},
     "execution_count": 42
    }
   ],
   "source": [
    "# I wanna see what type of data im going to be \n",
    "# looking at to see how i have to clean it if i have to clean it\n",
    "pd.set_option('display.max_colwidth', -1)\n",
    "df_sm['reviews.text'].sample(10)"
   ]
  },
  {
   "cell_type": "markdown",
   "metadata": {},
   "source": [
    "## tokenization of reviews text"
   ]
  },
  {
   "cell_type": "code",
   "execution_count": 43,
   "metadata": {},
   "outputs": [],
   "source": [
    "# ideally you only want to load this once.\n",
    "import en_core_web_lg\n",
    "nlp = en_core_web_lg.load()"
   ]
  },
  {
   "cell_type": "code",
   "execution_count": 52,
   "metadata": {},
   "outputs": [
    {
     "output_type": "execute_result",
     "data": {
      "text/plain": "['great', 'case', 'place', 'husband', 'love', 'hold', 'lot', 'cd']"
     },
     "metadata": {},
     "execution_count": 52
    }
   ],
   "source": [
    "def tokenize(df:pd.DataFrame,col_name:str):\n",
    "    \"\"\"Takes docs passed in df[col_name] and tokenizes based on lemmas\n",
    "    Arguments:\n",
    "    ----------\n",
    "    df {pd.Dataframe} - the data frame holding the text data that needs to be tokenized\n",
    "\n",
    "    col_name {str} - the column name for the dataframe column that has the text data\n",
    "    Returns:\n",
    "    ----------\n",
    "    tokens {spacy.tokens.token.Token}\n",
    "    \"\"\"\n",
    "    tokens = []\n",
    "    for doc in nlp.pipe(df[col_name]):\n",
    "        doc_tokens = []\n",
    "        for token in doc:\n",
    "            # strip stopwords pronounds and punctuation from tokens then strip leading ws\n",
    "            if ((token.is_stop != True) and (token.pos_ != 'PRON')) and (token.is_punct !=True):\n",
    "                doc_tokens.append(token.lemma_.strip())\n",
    "        tokens.append(doc_tokens)\n",
    "    return tokens\n",
    "df_sm['tokens'] = tokenize(df_sm,'reviews.text')\n",
    "# make sur ethat it looks ok or what i exspect a token\n",
    "df_sm.tokens.iloc[0]"
   ]
  },
  {
   "cell_type": "code",
   "execution_count": 46,
   "metadata": {},
   "outputs": [],
   "source": [
    "# unit test / sanity check\n",
    "assert len(tokenize(df=df_sm, col_name='reviews.text')) == df_sm.shape[0]"
   ]
  },
  {
   "cell_type": "markdown",
   "metadata": {},
   "source": [
    "## gensim LDA"
   ]
  },
  {
   "cell_type": "code",
   "execution_count": 48,
   "metadata": {},
   "outputs": [],
   "source": [
    "import gensim\n",
    "from gensim import corpora\n",
    "from gensim.models.ldamulticore import LdaMulticore"
   ]
  },
  {
   "cell_type": "code",
   "execution_count": 53,
   "metadata": {},
   "outputs": [
    {
     "output_type": "stream",
     "name": "stdout",
     "text": "length of token keys-Unfiltered 6832\nlength of token keys-filtered 2247\n"
    }
   ],
   "source": [
    "id2word = corpora.Dictionary(df_sm.tokens)\n",
    "\n",
    "print(\"length of token keys-Unfiltered\", len(id2word.keys()))\n",
    "\n",
    "#filter out extreams in tokens\n",
    "id2word.filter_extremes(no_below=5, no_above=.95)\n",
    "\n",
    "print(\"length of token keys-filtered\", len(id2word.keys()))\n",
    "\n",
    "corpora = [id2word.doc2bow(doc) for doc in df_sm.tokens]\n",
    "\n",
    "lda = LdaMulticore(corpus=corpora,\n",
    "                  id2word=id2word,\n",
    "                  num_topics=15, \n",
    "                  passes=50)"
   ]
  },
  {
   "cell_type": "code",
   "execution_count": 49,
   "metadata": {},
   "outputs": [],
   "source": [
    "import re\n",
    "def clean_print_topics(lda:LdaMulticore):\n",
    "    \"\"\"Prints out the topics from an LDA in a nice pretty list for humans to read\n",
    "    Arguments:\n",
    "    ---------\n",
    "    lda {LdaMulticore} - \n",
    "    \"\"\"\n",
    "    words = [re.findall('\"([^\"]*)\"',t[1]) for t in lda.print_topics()]\n",
    "    topics = [' '.join(t[0:5]) for t in words]\n",
    "    for id, t in enumerate(topics): \n",
    "        print(f\"------ Topic {id} ------\")\n",
    "        print(t, end=\"\\n\\n\")\n",
    "    return None"
   ]
  },
  {
   "cell_type": "code",
   "execution_count": 54,
   "metadata": {},
   "outputs": [
    {
     "output_type": "stream",
     "name": "stdout",
     "text": "------ Topic 0 ------\nbattery life charge long tablet\n\n------ Topic 1 ------\ntablet buy good charge price\n\n------ Topic 2 ------\n8 Fire screen 7 Amazon\n\n------ Topic 3 ------\nkindle love fire buy old\n\n------ Topic 4 ------\ntablet easy use need great\n\n------ Topic 5 ------\nmovie great watch tablet work\n\n------ Topic 6 ------\ngreat good tablet price product\n\n------ Topic 7 ------\nlove buy old game year\n\n------ Topic 8 ------\neasy use light read case\n\n------ Topic 9 ------\napp tablet kid Amazon device\n\n------ Topic 10 ------\ntablet kid good get price\n\n------ Topic 11 ------\nchild tablet purchase Amazon son\n\n------ Topic 12 ------\nsound speaker Alexa music great\n\n------ Topic 13 ------\ntablet Amazon app store good\n\n------ Topic 14 ------\nKindle book read reader Fire\n\n"
    }
   ],
   "source": [
    "clean_print_topics(lda)"
   ]
  },
  {
   "cell_type": "markdown",
   "metadata": {},
   "source": [
    "## dope visuals "
   ]
  },
  {
   "cell_type": "markdown",
   "metadata": {},
   "source": [
    "![https://i.redd.it/ih7217ioxwcx.jpg](https://i.redd.it/ih7217ioxwcx.jpg)"
   ]
  },
  {
   "cell_type": "code",
   "execution_count": null,
   "metadata": {},
   "outputs": [],
   "source": []
  },
  {
   "cell_type": "markdown",
   "metadata": {},
   "source": [
    "## Stretch Goals\n",
    "\n",
    "* Incorporate Named Entity Recognition in your analysis\n",
    "* Incorporate some custom pre-processing from our previous lessons (like spacy lemmatization)\n",
    "* Analyze a dataset of interest to you with topic modeling"
   ]
  }
 ],
 "metadata": {
  "kernelspec": {
   "display_name": "Python 3.7.6 64-bit ('flask': conda)",
   "language": "python",
   "name": "python37664bitflaskcondade332995bd2e4cf580fe75575437aae7"
  },
  "language_info": {
   "codemirror_mode": {
    "name": "ipython",
    "version": 3
   },
   "file_extension": ".py",
   "mimetype": "text/x-python",
   "name": "python",
   "nbconvert_exporter": "python",
   "pygments_lexer": "ipython3",
   "version": "3.7.6-final"
  }
 },
 "nbformat": 4,
 "nbformat_minor": 2
}